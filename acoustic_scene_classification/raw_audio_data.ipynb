{
 "cells": [
  {
   "cell_type": "code",
   "execution_count": 1,
   "metadata": {},
   "outputs": [],
   "source": [
    "import pandas as pd\n",
    "import os"
   ]
  },
  {
   "cell_type": "code",
   "execution_count": 2,
   "metadata": {},
   "outputs": [
    {
     "name": "stdout",
     "output_type": "stream",
     "text": [
      "['streettraffic', 'publicsquare', 'bus', 'shoppingmall', 'metro', 'park', 'airport']\n"
     ]
    }
   ],
   "source": [
    "train_dir_folders = os.listdir('/home/sauravpathak/acoustic_scene_classification_small/Train')\n",
    "print(train_dir_folders)\n",
    "train_dir_path = '/home/sauravpathak/acoustic_scene_classification_small/Train'"
   ]
  },
  {
   "cell_type": "code",
   "execution_count": 3,
   "metadata": {},
   "outputs": [],
   "source": [
    "file_name_list = []\n",
    "file_path_list = []\n",
    "category_list = []"
   ]
  },
  {
   "cell_type": "code",
   "execution_count": 4,
   "metadata": {},
   "outputs": [],
   "source": [
    "for folder in train_dir_folders:\n",
    "    folder_path = os.path.join(train_dir_path, folder)\n",
    "    folder_content = os.listdir(folder_path)\n",
    "    for file in folder_content:\n",
    "        file_name_list.append(file)\n",
    "        file_path_list.append(os.path.join(folder_path, file))\n",
    "        category_list.append(folder)"
   ]
  },
  {
   "cell_type": "code",
   "execution_count": 6,
   "metadata": {},
   "outputs": [
    {
     "name": "stdout",
     "output_type": "stream",
     "text": [
      "                                  filename  \\\n",
      "0   street_traffic-helsinki-269-8179-a.wav   \n",
      "1    street_traffic-milan-1087-42003-a.wav   \n",
      "2  street_traffic-stockholm-173-5315-a.wav   \n",
      "3     street_traffic-lyon-1110-43511-a.wav   \n",
      "4   street_traffic-lisbon-1008-42290-a.wav   \n",
      "\n",
      "                                            filepath          label  \n",
      "0  /home/sauravpathak/acoustic_scene_classificati...  streettraffic  \n",
      "1  /home/sauravpathak/acoustic_scene_classificati...  streettraffic  \n",
      "2  /home/sauravpathak/acoustic_scene_classificati...  streettraffic  \n",
      "3  /home/sauravpathak/acoustic_scene_classificati...  streettraffic  \n",
      "4  /home/sauravpathak/acoustic_scene_classificati...  streettraffic  \n"
     ]
    }
   ],
   "source": [
    "train_df = pd.DataFrame(list(zip(file_name_list, file_path_list, category_list)), columns = ['filename', 'filepath', 'label'])\n",
    "print(train_df.head())"
   ]
  },
  {
   "cell_type": "code",
   "execution_count": 7,
   "metadata": {},
   "outputs": [
    {
     "name": "stdout",
     "output_type": "stream",
     "text": [
      "['streettraffic', 'publicsquare', 'bus', 'shoppingmall', 'metro', 'park', 'airport']\n"
     ]
    }
   ],
   "source": [
    "test_dir_folders = os.listdir('/home/sauravpathak/acoustic_scene_classification_small/Test')\n",
    "print(test_dir_folders)\n",
    "test_dir_path = '/home/sauravpathak/acoustic_scene_classification_small/Test'"
   ]
  },
  {
   "cell_type": "code",
   "execution_count": 8,
   "metadata": {},
   "outputs": [],
   "source": [
    "file_name_list = []\n",
    "file_path_list = []\n",
    "category_list = []"
   ]
  },
  {
   "cell_type": "code",
   "execution_count": 9,
   "metadata": {},
   "outputs": [],
   "source": [
    "for folder in test_dir_folders:\n",
    "    folder_path = os.path.join(test_dir_path, folder)\n",
    "    folder_content = os.listdir(folder_path)\n",
    "    for file in folder_content:\n",
    "        file_name_list.append(file)\n",
    "        file_path_list.append(os.path.join(folder_path, file))\n",
    "        category_list.append(folder)"
   ]
  },
  {
   "cell_type": "code",
   "execution_count": 10,
   "metadata": {},
   "outputs": [
    {
     "name": "stdout",
     "output_type": "stream",
     "text": [
      "                                 filename  \\\n",
      "0  street_traffic-helsinki-164-5020-a.wav   \n",
      "1  street_traffic-lisbon-1008-40182-a.wav   \n",
      "2    street_traffic-lyon-1029-40563-a.wav   \n",
      "3   street_traffic-milan-1011-41072-a.wav   \n",
      "4    street_traffic-london-167-5126-a.wav   \n",
      "\n",
      "                                            filepath          label  \n",
      "0  /home/sauravpathak/acoustic_scene_classificati...  streettraffic  \n",
      "1  /home/sauravpathak/acoustic_scene_classificati...  streettraffic  \n",
      "2  /home/sauravpathak/acoustic_scene_classificati...  streettraffic  \n",
      "3  /home/sauravpathak/acoustic_scene_classificati...  streettraffic  \n",
      "4  /home/sauravpathak/acoustic_scene_classificati...  streettraffic  \n"
     ]
    }
   ],
   "source": [
    "test_df = pd.DataFrame(list(zip(file_name_list, file_path_list, category_list)), columns = ['filename', 'filepath', 'label'])\n",
    "print(test_df.head())"
   ]
  },
  {
   "cell_type": "code",
   "execution_count": 11,
   "metadata": {},
   "outputs": [
    {
     "name": "stdout",
     "output_type": "stream",
     "text": [
      "646 71\n"
     ]
    }
   ],
   "source": [
    "print(len(train_df), len(test_df))"
   ]
  },
  {
   "cell_type": "code",
   "execution_count": 13,
   "metadata": {},
   "outputs": [],
   "source": [
    "train_df.to_pickle('/home/sauravpathak/acoustic_scene_classification_small/train_df.pkl')\n",
    "test_df.to_pickle('/home/sauravpathak/acoustic_scene_classification_small/test_df.pkl')"
   ]
  }
 ],
 "metadata": {
  "kernelspec": {
   "display_name": "Python 3",
   "language": "python",
   "name": "python3"
  },
  "language_info": {
   "codemirror_mode": {
    "name": "ipython",
    "version": 3
   },
   "file_extension": ".py",
   "mimetype": "text/x-python",
   "name": "python",
   "nbconvert_exporter": "python",
   "pygments_lexer": "ipython3",
   "version": "3.7.6"
  }
 },
 "nbformat": 4,
 "nbformat_minor": 4
}
