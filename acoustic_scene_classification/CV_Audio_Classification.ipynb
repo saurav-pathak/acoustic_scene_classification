{
 "cells": [
  {
   "cell_type": "code",
   "execution_count": 37,
   "metadata": {},
   "outputs": [],
   "source": [
    "import pandas as pd\n",
    "import librosa\n",
    "import librosa.display\n",
    "import numpy as np\n",
    "from torch.utils.data import Dataset, DataLoader\n",
    "from tqdm import tqdm as tqdm\n",
    "import os\n",
    "from torchvision.models import resnet34\n",
    "import torch\n",
    "import torch.nn as nn\n",
    "import torch.optim as optim\n",
    "import matplotlib.pyplot as plt\n",
    "from torch.multiprocessing import Pool"
   ]
  },
  {
   "cell_type": "code",
   "execution_count": 38,
   "metadata": {},
   "outputs": [
    {
     "name": "stdout",
     "output_type": "stream",
     "text": [
      "df loaded\n"
     ]
    }
   ],
   "source": [
    "df = pd.read_pickle('/home/sauravpathak/acoustic_scene_classification_small/train_split_df.pkl')\n",
    "np.random.shuffle(df.values)\n",
    "print('df loaded')"
   ]
  },
  {
   "cell_type": "code",
   "execution_count": 39,
   "metadata": {},
   "outputs": [],
   "source": [
    "dataset_size = len(df)"
   ]
  },
  {
   "cell_type": "code",
   "execution_count": 40,
   "metadata": {},
   "outputs": [],
   "source": [
    "def get_melspectrogram_db(file_path, sr = 48000, n_fft=2048, hop_length=512, n_mels=128, fmin=20, fmax=24000, top_db=80):\n",
    "    wav,sr = librosa.load(file_path, sr = sr)\n",
    "    if wav.shape[0]<2*sr:\n",
    "        wav=np.pad(wav,int(np.ceil((2*sr-wav.shape[0])/2)),mode='reflect')\n",
    "    else:\n",
    "        wav=wav[:2*sr]\n",
    "    spec=librosa.feature.melspectrogram(wav,sr=sr, n_fft=n_fft,\n",
    "              hop_length=hop_length,n_mels=n_mels,fmin=fmin,fmax=fmax)\n",
    "    spec_db=librosa.power_to_db(spec,top_db=top_db)\n",
    "    return spec_db"
   ]
  },
  {
   "cell_type": "code",
   "execution_count": 41,
   "metadata": {},
   "outputs": [],
   "source": [
    "def spec_to_image(spec, eps=1e-6):\n",
    "    mean = spec.mean()\n",
    "    std = spec.std()\n",
    "    spec_norm = (spec - mean) / (std + eps)\n",
    "    spec_min, spec_max = spec_norm.min(), spec_norm.max()\n",
    "    spec_scaled = 1 * (spec_norm - spec_min) / (spec_max - spec_min)\n",
    "    return spec_scaled"
   ]
  },
  {
   "cell_type": "code",
   "execution_count": 42,
   "metadata": {},
   "outputs": [],
   "source": [
    "class AudioData(Dataset):\n",
    "    def __init__(self, df, out_col):\n",
    "        self.df = df\n",
    "        self.data = []\n",
    "        self.labels = []\n",
    "        self.c2i={}\n",
    "        self.i2c={}\n",
    "        self.categories = sorted(df[out_col].unique())\n",
    "        for i, category in enumerate(self.categories):\n",
    "            self.c2i[category]=i\n",
    "            self.i2c[i]=category\n",
    "        for ind in range(len(df)):\n",
    "            row = df.iloc[ind]\n",
    "            file_path = df.iloc[ind,1]\n",
    "            self.data.append(spec_to_image(get_melspectrogram_db(file_path))[np.newaxis,...])\n",
    "            self.labels.append(self.c2i[row['label']])\n",
    "    def __len__(self):\n",
    "        return len(self.data)\n",
    "    def __getitem__(self, idx):\n",
    "        return self.data[idx], self.labels[idx]"
   ]
  },
  {
   "cell_type": "code",
   "execution_count": 43,
   "metadata": {},
   "outputs": [],
   "source": [
    "def data_loader(dframe, batch_size):\n",
    "    train_df = dframe[0]\n",
    "    valid_df = dframe[1]\n",
    "    train_data = AudioData(train_df, 'label')\n",
    "    valid_data = AudioData(valid_df, 'label')\n",
    "    train_loader = DataLoader(train_data, batch_size=batch_size, shuffle=True)\n",
    "    print('train_loader loaded')\n",
    "    valid_loader = DataLoader(valid_data, batch_size=batch_size, shuffle=True)\n",
    "    print('valid_loader loaded')\n",
    "    return train_loader, valid_loader"
   ]
  },
  {
   "cell_type": "code",
   "execution_count": 44,
   "metadata": {},
   "outputs": [],
   "source": [
    "if torch.cuda.is_available():\n",
    "    device=torch.device('cuda:0')\n",
    "else:\n",
    "    device=torch.device('cpu')\n",
    "\n",
    "def model_init():\n",
    "    resnet_model = resnet34(pretrained=False)\n",
    "    resnet_model.fc = nn.Linear(512,7)\n",
    "    resnet_model.conv1 = nn.Conv2d(1, 64, kernel_size=(7, 7), stride=(2, 2), padding=(3, 3), bias=False)\n",
    "    resnet_model = resnet_model.to(device)\n",
    "    return resnet_model"
   ]
  },
  {
   "cell_type": "code",
   "execution_count": 45,
   "metadata": {},
   "outputs": [],
   "source": [
    "from torch.optim.lr_scheduler import StepLR"
   ]
  },
  {
   "cell_type": "code",
   "execution_count": 46,
   "metadata": {},
   "outputs": [],
   "source": [
    "epochs = 2"
   ]
  },
  {
   "cell_type": "code",
   "execution_count": 47,
   "metadata": {},
   "outputs": [],
   "source": [
    "def init_weights(m):\n",
    "    if type(m) == nn.Linear or type(m) == nn.Conv2d:\n",
    "        torch.nn.init.xavier_uniform_(m.weight)"
   ]
  },
  {
   "cell_type": "code",
   "execution_count": 48,
   "metadata": {},
   "outputs": [],
   "source": [
    "def train(model, loss_fn, train_loader, valid_loader, epochs, optimizer, scheduler):\n",
    "    train_acc = 0\n",
    "    valid_acc = 0\n",
    "    train_batch_losses=[]\n",
    "    valid_batch_losses=[]\n",
    "    trace_y = []\n",
    "    trace_yhat = []\n",
    "    for epoch in tqdm(range(1,epochs+1)):\n",
    "        model.train()\n",
    "        for i, data in enumerate(train_loader):\n",
    "            x, y = data\n",
    "            optimizer.zero_grad()\n",
    "            x = x.to(device, dtype=torch.float32)\n",
    "            y = y.to(device, dtype=torch.long)\n",
    "            y_hat = model(x)\n",
    "            loss = loss_fn(y_hat, y)  \n",
    "            loss.backward()\n",
    "            if epoch == epochs:\n",
    "                train_batch_losses.append(loss.item())\n",
    "                trace_y.append(y.cpu().detach().numpy())\n",
    "                trace_yhat.append(y_hat.cpu().detach().numpy())  \n",
    "            optimizer.step()\n",
    "        scheduler.step()\n",
    "        if epoch == epochs:\n",
    "            trace_y = np.concatenate(trace_y)\n",
    "            trace_yhat = np.concatenate(trace_yhat)\n",
    "            train_acc = np.mean(trace_yhat.argmax(axis=1)==trace_y)\n",
    "\n",
    "        if epoch == epochs:\n",
    "            with torch.no_grad():\n",
    "                model.eval()\n",
    "                trace_y = []\n",
    "                trace_yhat = []\n",
    "                for i, data in enumerate(valid_loader):\n",
    "                    x, y = data\n",
    "                    x = x.to(device, dtype=torch.float32)\n",
    "                    y = y.to(device, dtype=torch.long)\n",
    "                    y_hat = model(x)\n",
    "                    loss = loss_fn(y_hat, y)\n",
    "                    trace_y.append(y.cpu().detach().numpy())\n",
    "                    trace_yhat.append(y_hat.cpu().detach().numpy())      \n",
    "                    valid_batch_losses.append(loss.item())\n",
    "                trace_y = np.concatenate(trace_y)\n",
    "                trace_yhat = np.concatenate(trace_yhat)\n",
    "                valid_acc = np.mean(trace_yhat.argmax(axis=1)==trace_y)\n",
    "    return train_acc, valid_acc, np.mean(train_batch_losses), np.mean(valid_batch_losses)"
   ]
  },
  {
   "cell_type": "code",
   "execution_count": 49,
   "metadata": {},
   "outputs": [],
   "source": [
    "def k_fold_CV(dframe, epochs, model_init = model_init, init_weights = init_weights, params = {'weight_decay': 0.001, 'lr': 0.01, 'batch_size': 16}):\n",
    "    model = model_init()\n",
    "    model.apply(init_weights)\n",
    "    train_loader, valid_loader = data_loader(dframe, params['batch_size'])\n",
    "    optimizer = optim.Adam(model.parameters(), lr=params['lr'], weight_decay=params['weight_decay'])\n",
    "    loss_fn = nn.CrossEntropyLoss()\n",
    "    scheduler = StepLR(optimizer, step_size=20, gamma=0.2)\n",
    "    train_acc, valid_acc, train_loss, valid_loss = train(model, loss_fn, train_loader, valid_loader, epochs, optimizer, scheduler)\n",
    "    return train_acc, valid_acc, train_loss, valid_loss"
   ]
  },
  {
   "cell_type": "code",
   "execution_count": 51,
   "metadata": {},
   "outputs": [],
   "source": [
    "train_accuracy = []\n",
    "valid_accuracy = []"
   ]
  },
  {
   "cell_type": "code",
   "execution_count": 52,
   "metadata": {},
   "outputs": [],
   "source": [
    "from sklearn.model_selection import KFold"
   ]
  },
  {
   "cell_type": "code",
   "execution_count": 53,
   "metadata": {},
   "outputs": [],
   "source": [
    "def n_fold(n, df):\n",
    "    kf = KFold(n_splits=n, shuffle=True)\n",
    "    kf.get_n_splits(df)\n",
    "    for train_index, valid_index in kf.split(df):\n",
    "        train_df = df.iloc[train_index]\n",
    "        valid_df = df.iloc[valid_index]\n",
    "        yield train_df, valid_df"
   ]
  },
  {
   "cell_type": "code",
   "execution_count": null,
   "metadata": {},
   "outputs": [],
   "source": [
    "def cv(epochs, df):\n",
    "    for train_df, valid_df in tqdm(n_fold(n, df)):\n",
    "        dframe = [train_df, valid_df]\n",
    "        train_acc, valid_acc, train_loss, valid_loss = k_fold_CV(dframe, epochs)\n",
    "        train_accuracy.append(train_acc)\n",
    "        valid_accuracy.append(valid_acc)"
   ]
  },
  {
   "cell_type": "code",
   "execution_count": null,
   "metadata": {},
   "outputs": [],
   "source": [
    "cv(epochs, df)\n",
    "np.save('/home/sauravpathak/acoustic_scene_classification_small/train_accuracy_cv.npy', train_accuracy)\n",
    "np.save('/home/sauravpathak/acoustic_scene_classification_small/valid_accuracy_cv.npy', valid_accuracy)"
   ]
  }
 ],
 "metadata": {
  "kernelspec": {
   "display_name": "Python 3",
   "language": "python",
   "name": "python3"
  },
  "language_info": {
   "codemirror_mode": {
    "name": "ipython",
    "version": 3
   },
   "file_extension": ".py",
   "mimetype": "text/x-python",
   "name": "python",
   "nbconvert_exporter": "python",
   "pygments_lexer": "ipython3",
   "version": "3.7.6"
  }
 },
 "nbformat": 4,
 "nbformat_minor": 4
}
